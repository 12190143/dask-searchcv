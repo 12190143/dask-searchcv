{
 "cells": [
  {
   "cell_type": "markdown",
   "metadata": {},
   "source": [
    "# Gradient Descent"
   ]
  },
  {
   "cell_type": "markdown",
   "metadata": {},
   "source": [
    "### Generate Some Data"
   ]
  },
  {
   "cell_type": "code",
   "execution_count": null,
   "metadata": {
    "collapsed": false
   },
   "outputs": [],
   "source": [
    "import numpy as np\n",
    "import dask.array as da\n",
    "from dask_opt.numpy_dask import dot\n",
    "\n",
    "\n",
    "def logit(y):\n",
    "    return 1.0 / ( 1.0 + np.exp(-y) )\n",
    "\n",
    "\n",
    "def make_y(X, beta0):\n",
    "    N, M   = X.shape        \n",
    "    z0     = dot(X, beta0)\n",
    "    z0     = da.compute(z0)[0]  # ensure z0 is a numpy array\n",
    "    scl    = S / z0.std()\n",
    "    beta0 *= scl\n",
    "    z0    *= scl\n",
    "    y      = np.random.rand(N) < logit(z0)\n",
    "    return y, z0"
   ]
  },
  {
   "cell_type": "code",
   "execution_count": null,
   "metadata": {
    "collapsed": true
   },
   "outputs": [],
   "source": [
    "M = 100\n",
    "N = 100000\n",
    "S = 2\n",
    "\n",
    "X      = np.random.randn(N,M)\n",
    "X[:,1] = 1.0\n",
    "beta0  = np.random.randn(M)\n",
    "y, z0 = make_y(X, beta0)\n",
    "L0 = N * np.log(2.0)"
   ]
  },
  {
   "cell_type": "markdown",
   "metadata": {},
   "source": [
    "### Solve with Gradient Method"
   ]
  },
  {
   "cell_type": "code",
   "execution_count": null,
   "metadata": {
    "collapsed": true
   },
   "outputs": [],
   "source": [
    "from dask_opt.gradient import gradient"
   ]
  },
  {
   "cell_type": "code",
   "execution_count": null,
   "metadata": {
    "collapsed": false
   },
   "outputs": [],
   "source": [
    "%%time\n",
    "beta = gradient(X, y)"
   ]
  },
  {
   "cell_type": "markdown",
   "metadata": {},
   "source": [
    "### Plot results"
   ]
  },
  {
   "cell_type": "code",
   "execution_count": null,
   "metadata": {
    "collapsed": true
   },
   "outputs": [],
   "source": [
    "import matplotlib.pyplot as plt\n",
    "%matplotlib inline"
   ]
  },
  {
   "cell_type": "code",
   "execution_count": null,
   "metadata": {
    "collapsed": false
   },
   "outputs": [],
   "source": [
    "z = np.dot(X,beta)\n",
    "zrang = np.linspace(-6,6,200)\n",
    "plt.plot(zrang,logit(zrang),'-',z,y,'o');\n",
    "plt.show()"
   ]
  },
  {
   "cell_type": "markdown",
   "metadata": {},
   "source": [
    "### Out-of-core simulation"
   ]
  },
  {
   "cell_type": "code",
   "execution_count": null,
   "metadata": {
    "collapsed": true
   },
   "outputs": [],
   "source": [
    "import os\n",
    "import h5py\n",
    "\n",
    "if not os.path.exists('X.hdf5'):\n",
    "    with h5py.File('X.hdf5') as f:\n",
    "        f['/X'] = X\n",
    "        \n",
    "f = h5py.File('X.hdf5')\n",
    "X = da.from_array(f['X'], chunks=(10000, 100))"
   ]
  },
  {
   "cell_type": "code",
   "execution_count": null,
   "metadata": {
    "collapsed": false
   },
   "outputs": [],
   "source": [
    "from dask.diagnostics import Profiler, ResourceProfiler, visualize\n",
    "\n",
    "with Profiler() as prof, ResourceProfiler(dt=0.25) as rprof:\n",
    "    beta = gradient(X, y)"
   ]
  },
  {
   "cell_type": "code",
   "execution_count": null,
   "metadata": {
    "collapsed": false
   },
   "outputs": [],
   "source": [
    "import bokeh.plotting as bp\n",
    "bp.output_notebook()"
   ]
  },
  {
   "cell_type": "code",
   "execution_count": null,
   "metadata": {
    "collapsed": false
   },
   "outputs": [],
   "source": [
    "visualize([prof, rprof])"
   ]
  },
  {
   "cell_type": "code",
   "execution_count": null,
   "metadata": {
    "collapsed": false
   },
   "outputs": [],
   "source": [
    "if not os.path.exists('Xbig.hdf5'):\n",
    "    with h5py.File('Xbig.hdf5') as f:\n",
    "        out = f.require_dataset('/X', shape=(1000000, 100), dtype='f8')\n",
    "        da.random.random(out.shape, chunks=(10000, 100)).store(out)    \n",
    "        out[:, 0] = 1 \n",
    "        \n",
    "f = h5py.File('Xbig.hdf5')\n",
    "X = da.from_array(f['X'], chunks=(10000, 100))\n",
    "y, z0 = make_y(X, beta0)"
   ]
  },
  {
   "cell_type": "code",
   "execution_count": null,
   "metadata": {
    "collapsed": false
   },
   "outputs": [],
   "source": [
    "with Profiler() as prof, ResourceProfiler(dt=0.25) as rprof:\n",
    "    beta = gradient(X, y, max_steps=20)"
   ]
  },
  {
   "cell_type": "code",
   "execution_count": null,
   "metadata": {
    "collapsed": false
   },
   "outputs": [],
   "source": [
    "visualize([prof, rprof])"
   ]
  }
 ],
 "metadata": {
  "kernelspec": {
   "display_name": "Python 2",
   "language": "python",
   "name": "python2"
  },
  "language_info": {
   "codemirror_mode": {
    "name": "ipython",
    "version": 2
   },
   "file_extension": ".py",
   "mimetype": "text/x-python",
   "name": "python",
   "nbconvert_exporter": "python",
   "pygments_lexer": "ipython2",
   "version": "2.7.11"
  }
 },
 "nbformat": 4,
 "nbformat_minor": 0
}
